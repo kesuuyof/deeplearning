{
 "cells": [
  {
   "cell_type": "markdown",
   "metadata": {},
   "source": [
    "# 誤差逆伝播法 (backpropagation)\n",
    "\n",
    "誤差逆伝播法を理解するための方法\n",
    "### 数式\n",
    "### 計算グラフ\n",
    "- 順伝播(forward propagatinon)\n",
    " - 計算の結果を順方向に伝達する。\n",
    "- 逆伝播(backward propagation)\n",
    " - 「局所的な微分」を順方向とは逆向きに伝達する\n",
    "   \n",
    "#### 計算グラフの特徴\n",
    "1. 局所的な計算ができる\n",
    " - 全体でどのようなことが行われていても、自分に関係する情報だけから次の結果（その先の結果）を出力することができる\n",
    "2. 逆方向の伝播によって「微分」を効率よく計算できる\n",
    "\n",
    "##### 逆伝播とは\n",
    "- x: りんごの値段\n",
    "- L:支払金額\n",
    "\n",
    "とした場合\n",
    "\n",
    "$\\frac{\\partial L}{\\partial x}$ を求めることに相当する\n",
    "\n"
   ]
  },
  {
   "cell_type": "markdown",
   "metadata": {},
   "source": [
    "# 連鎖率\n",
    "\n",
    "局所的な微分とは\n",
    "$順伝播でのy=f(x)という計算の微分を求めること$"
   ]
  }
 ],
 "metadata": {
  "kernelspec": {
   "display_name": "Python [conda root]",
   "language": "python",
   "name": "conda-root-py"
  },
  "language_info": {
   "codemirror_mode": {
    "name": "ipython",
    "version": 3
   },
   "file_extension": ".py",
   "mimetype": "text/x-python",
   "name": "python",
   "nbconvert_exporter": "python",
   "pygments_lexer": "ipython3",
   "version": "3.5.2"
  }
 },
 "nbformat": 4,
 "nbformat_minor": 1
}
