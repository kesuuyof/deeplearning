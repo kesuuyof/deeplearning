{
 "cells": [
  {
   "cell_type": "markdown",
   "metadata": {},
   "source": [
    "# 誤差逆伝播法 (backpropagation)\n",
    "\n",
    "誤差逆伝播法を理解するための方法\n",
    "### 数式\n",
    "### 計算グラフ\n",
    "- 順伝播(forward propagatinon)\n",
    " - 計算の結果を順方向に伝達する。\n",
    "- 逆伝播(backward propagation)\n",
    " - 「局所的な微分」を順方向とは逆向きに伝達する\n",
    "   \n",
    "#### 計算グラフの特徴\n",
    "1. 局所的な計算ができる\n",
    " - 全体でどのようなことが行われていても、自分に関係する情報だけから次の結果（その先の結果）を出力することができる\n",
    "2. 逆方向の伝播によって「微分」を効率よく計算できる\n",
    "\n",
    "##### 逆伝播とは\n",
    "- x: りんごの値段\n",
    "- L:支払金額\n",
    "\n",
    "とした場合\n",
    "\n",
    "$\\frac{\\partial L}{\\partial x}$ を求めることに相当する\n",
    "\n"
   ]
  },
  {
   "cell_type": "markdown",
   "metadata": {},
   "source": [
    "# 連鎖率\n",
    "\n",
    "局所的な微分とは\n",
    "$順伝播でのy=f(x)という計算の微分を求めること$\n",
    "\n",
    "### 合成関数\n",
    "複数の関数によって構成される関数のこと。\n",
    "例\n",
    "\n",
    "$z = t^2$\n",
    "\n",
    "$t = x + y$\n",
    "\n",
    "連鎖率とは合成関数の微分についての性質であり、次のように定義される。\n",
    "\n",
    "*ある関数が合成関数で表される場合、その合成関数の微分は、合成関数を構成するそれぞれの関数の微分の積によって表すことができる。*\n",
    "\n",
    "つまり\n",
    "\n",
    "$\\frac{\\partial z}{\\partial x}  =  \\frac{\\partial z}{\\partial t}\\times \\frac{\\partial x}{\\partial t}$ \n",
    "\n",
    "$ (xに関するzの微分) = (tに関するzの微分) \\times (tに関するxの微分)$\n",
    "\n",
    "例の場合\n",
    "\n",
    "$\\frac{\\partial z }{\\partial t }  = 2t$\n",
    "\n",
    "$\\frac{\\partial t }{\\partial x } = 1$\n",
    "\n",
    "$\\frac{\\partial z}{\\partial x} = \\frac{\\partial z}{\\partial t}\\frac{\\partial t}{\\partial x} = 2t \\times 1 = 2(x + y) $"
   ]
  },
  {
   "cell_type": "markdown",
   "metadata": {},
   "source": [
    "# 逆伝播\n",
    "\n",
    "## 加算ノードの逆伝播\n",
    "\n",
    "例: $z=x+y$という数式について\n",
    "\n",
    "$\\frac{\\partial z}{\\partial x} = 1$\n",
    "\n",
    "$\\frac{\\partial z}{\\partial y} = 1$"
   ]
  },
  {
   "cell_type": "markdown",
   "metadata": {},
   "source": [
    "![dddd](https://lh3.googleusercontent.com/CWV-oa_nYwGg5dVQ6-G_7vgbV8mPRYVN-O4IVmCWQNa_FwoCCmEKvV8ovW9zSpCDSFAEh3_dEO4Dzp6Gvvz6ac29m1qUDFHh3CU-oRHPPQoE5Pl_BqA5EZY6AIabGPTOxhsi5WCsM87kLedhdNiXWhTsE4uEX2hfb55SnwrQS6IHvtV1vDZMYcphS2Cua3y70pCiIbuJxSfZ8ZQWWNWDHS3GGUyH4k4PQy6ixh_aqQFo3_stbWyjDHbF-E2Exis7efAndDW_eAFsYXeTyQQ3w4WbVbGMwTrbvqWaj1wvKW0M7qaYPTjr87WY88IimMywT5YFq3CDCw66y8uPOrn6gw6uqKa391THdY4pc01LYS25X0mYR3ygygHNZqkFZeXTIOgs7NRL5SUBOWWMZZANJDhOc16DR9nEIvdiuy8hDBr0I_gItGYQUJFLCa4-axjAkAkHDhhJDGg1NoAUzblGuoGzhHwW-DTAmq20Hs__Rk_7XjwxL8f9Y2k7r_zHWeNDqx1xqQBguYm51ainwr4JYWb7Kc5hx2C3NMXnJzF96QgnvSYHcO5yJNoBidlN7RL256nG5Zuyf6DafGnuP9ixRvBYeJr2zhppYwf0i7gPzH6aQL-d0ZOLQQPtiCXl8UtfC7fxrYN075ffwsOHoVSoQB5tcX6QpGdsEqJ-sWXe-Qs=w1142-h648-no)"
   ]
  },
  {
   "cell_type": "markdown",
   "metadata": {},
   "source": [
    "$\\frac{\\partial L}{\\partial z} のLとは　$\n",
    "\n",
    "$最終的にLという値を出力するグラフを想定している$"
   ]
  },
  {
   "cell_type": "code",
   "execution_count": null,
   "metadata": {
    "collapsed": true
   },
   "outputs": [],
   "source": [
    "\n",
    "![aaaa](https://lh3.googleusercontent.com/syJTAsRJ905dWsiTxSzzTvXtnfwNBb-6fddC_TkR64CasRChVydC19oJbxjQIjKftB1wv8Wl8YzLBEgbATV3XuSlhmgsrv58kyXy-HPJ1DL7yLYc9TE0lt048KZmaCDwry9R_c1apNxG6Ch0-4kpGOYheGuT7p7TGqSU62UN6VrsyIpUlh8RyApM_Y7q8GCTzovvQFjUkhL655YUt3aPgQLr8IIjOMis7yYmDvCE3FSQbUDE5Rh4hcrfp-s6JJ7P89pK9esfeNgCkGTWYjW9I0ppsy8iwBi_GcMJ39lIV95lIHjxPdQ9YCZsiSCl6szoTANL8VuX5nTQmYMg0P3pp7FltBpkx8EplSkLcMqBt3FDfyGiv6oEPvD8L-P3eLAB0XbCp9pstnjAipQVGHI2QqJNHt9b94b7UOWBrIltQNALDE-jnc-HVEENBTevH9UujMR1MS3mStNfubnBuYjgOBwqe-KVr02F9FOQ8VI_ExjnfFj3RF9W4xxCaysbEoJdh9n6Ra1ubTkusgObaKacITqoFO2mvQshyBKLAmvvIoW9CiUVxCpErbzu2Xw1ecy0F3RVRDIVZWj0eB5MjWEox8rd09lUlcQSM86ACGFy7scr0tifQWDSBg=w1124-h492-no)"
   ]
  }
 ],
 "metadata": {
  "kernelspec": {
   "display_name": "Python [conda root]",
   "language": "python",
   "name": "conda-root-py"
  },
  "language_info": {
   "codemirror_mode": {
    "name": "ipython",
    "version": 3
   },
   "file_extension": ".py",
   "mimetype": "text/x-python",
   "name": "python",
   "nbconvert_exporter": "python",
   "pygments_lexer": "ipython3",
   "version": "3.5.2"
  }
 },
 "nbformat": 4,
 "nbformat_minor": 1
}
