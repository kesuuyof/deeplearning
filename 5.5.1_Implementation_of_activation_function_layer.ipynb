{
 "cells": [
  {
   "cell_type": "markdown",
   "metadata": {},
   "source": [
    "# 5.5 活性化関数レイヤの実装\n",
    "\n",
    "計算グラフの考え方をニューラルネットワークに適用するため、レイヤを一つのクラスとして実装することにします。\n",
    "まず、活性関数であるReLUとSigmoidレイヤを実装します。\n",
    "\n",
    "## ReLUレイヤ\n",
    "[ReLU](http://localhost:8888/notebooks/3.2.3_step_fucntion.ipynb#ReLU関数-Rectifield-Liner-Unit)\n",
    "\n",
    "ReLUは次の式で表されました。\n",
    "\n",
    "\\begin{align}\n",
    "y= \\biggl\\{\n",
    "\\begin{array}{ll}\n",
    "x & (x \\gt 0) \\\\\n",
    "0 & (x \\leq 0)\n",
    "\\end{array}\n",
    "\\end{align}\n",
    "\n",
    "\n",
    "上記の式から、xに関するyの微分は以下のように求められます。\n",
    "\n",
    "\\begin{align}\n",
    "\\frac{\\partial y}{\\partial x} = \\biggl\\{\n",
    "\\begin{array}{ll}\n",
    "1 & (x \\gt 0) \\\\\n",
    "0 & (x \\leq 0)\n",
    "\\end{array}\n",
    "\\end{align}\n",
    "\n",
    "順伝播時の入力であるx が0より大きければ、逆伝播は上流の値をそのまま下流に流します。\n",
    "逆に、順伝播時にxが0以下であれば、逆伝播では下流への信号はそこでストップします。\n",
    "\n",
    "![ReLUレイヤの計算グラフ](https://files.slack.com/files-pri/T0FNB0BP1-F4LEX2TRA/____________________________2017-03-19_16.00.07.png)"
   ]
  },
  {
   "cell_type": "code",
   "execution_count": 2,
   "metadata": {
    "collapsed": true
   },
   "outputs": [],
   "source": [
    "# ReLUレイヤの実装\n",
    "class Relu:\n",
    "    def __init__(self):\n",
    "        self.mask = None\n",
    "        \n",
    "    def forward(self, x):\n",
    "        self.mask = (x <= 0)\n",
    "        out=  x.copy()\n",
    "        out[self.mask] = 0\n",
    "        \n",
    "        return out\n",
    "    \n",
    "    def backward(self, dout):\n",
    "        dout[self.mack] = 0\n",
    "        dx = dout\n",
    "        \n",
    "        return dx"
   ]
  },
  {
   "cell_type": "code",
   "execution_count": 7,
   "metadata": {
    "collapsed": false,
    "scrolled": true
   },
   "outputs": [
    {
     "name": "stdout",
     "output_type": "stream",
     "text": [
      "[[ 1.  -0.5]\n",
      " [-2.   3. ]]\n",
      "[[False  True]\n",
      " [ True False]]\n"
     ]
    }
   ],
   "source": [
    "# test\n",
    "import numpy as np\n",
    "x = np.array([[1.0, -0.5], [-2.0, 3.0]])\n",
    "print(x)\n",
    "\n",
    "mask = (x <= 0)\n",
    "print(mask)"
   ]
  },
  {
   "cell_type": "markdown",
   "metadata": {},
   "source": [
    "ReLUレイヤは回路における<strong>「スイッチ」</strong>のように機能します。\n",
    "順伝播時に電流が流れていれば、スイッチをONにし、電流が流れなければ、スイッチをOFFにします。\n",
    "\n",
    "抜粋:: 斎藤 康毅  “ゼロから作るDeep Learning”。 iBooks  "
   ]
  }
 ],
 "metadata": {
  "anaconda-cloud": {},
  "kernelspec": {
   "display_name": "Python [conda root]",
   "language": "python",
   "name": "conda-root-py"
  },
  "language_info": {
   "codemirror_mode": {
    "name": "ipython",
    "version": 3
   },
   "file_extension": ".py",
   "mimetype": "text/x-python",
   "name": "python",
   "nbconvert_exporter": "python",
   "pygments_lexer": "ipython3",
   "version": "3.5.2"
  }
 },
 "nbformat": 4,
 "nbformat_minor": 1
}
