{
 "cells": [
  {
   "cell_type": "markdown",
   "metadata": {},
   "source": [
    "# Sigmoidレイヤ\n",
    "\n",
    "シグモイド関数は次の式で表される関数でした。\n",
    "\n",
    "$y = \\frac{1}{1 + \\exp(-x)}$\n",
    "\n",
    "計算グラフで表すと以下のとおり\n",
    "\n",
    "![Sigmoidレイヤ](https://lh3.googleusercontent.com/LctsmrePUxdTelR5sspqMVU403CRTnyE5nmYsQxtT0E5o42jN2C_j3xTJryogKKidq9oCq65pj9tyHrSl8IFr8VOUJyv218OLZm4DMzRgXIyF6Um3vngUVPA98jx_uMURAfq4oGS3iZKv8W_Phs4P92vcD_QJz2NTE6o47D1FBABW2P6on3fbvCOZ2zJq7KC_UF3wwZMGkHBEW17nNjeape1dwjvo9GxGa84HvyFRiPF3ZM9TfHmboPZkOKw6kDVUgf1Q0YCcigJvcLGItM-iER2GEZz1Jg9yqTrIUIt-XFe6rxT2whk_dEABIFr_89wpsGVu3xxbq0FH0IkdeTc_pmmlT9gAT_RuxWOBTFkAdPi1wf3B3lUxBs5sRJpkom42WL4HOZWZCqW8zDNbCbqwyEpAziWXKJKTOV4KWUarkRxJhdL2A4S_RzTht0O2sLZhdUmzivfyQXYDvxg7KSb1LLgue3EHSA-97--j4MFWrjKnaHXvYJeFHiJi3Xla6AUJaNbMV4K3XDhM8axXQUsefrGe3uWQiYXY9T4wyCLzZzUYsr4NQcDZ5NQO_Oc36tIInen1_GjDPiW1qpHB-3kUov2bIlGJEB16BD3YvaNMM1s2BKhp8fDXQ=w1116-h382-no)"
   ]
  },
  {
   "cell_type": "markdown",
   "metadata": {},
   "source": [
    "### ステップ1\n",
    "「/」ノードは$y =\\frac{1}{x}を表しますが、この微分解析的に次の式によって表されます。$\n",
    "\n",
    "\\begin{align}\n",
    "\\frac{\\partial y}{\\partial x} &= -\\frac{1}{x^2} \\\\\n",
    " &= -y^2\n",
    "\\end{align}\n",
    "\n",
    "逆伝播のときは、上流の値に対して、$-y^2$(順伝播の出力の2乗にマイナスをつけた値)を乗算して下流へ伝播します。\n",
    "\n",
    "![除算の逆伝播](https://lh3.googleusercontent.com/fMvrKqWckVymLsUSYp8PJNENWJhVr3LkF_-lwTsikAGSW0Q-40FufnTZtOPI6Mg2Z6W2ESFMVwg4rmzQTYhz_dJGJpBDzUtFdgv20V2kBgOxQrXY5xoevT7cdAH0raTJSS4sqX0MLLqTQmh8lEcz2WrP5VjFQG7p1WCxzINvNs1ghwnvj-QTb2LQjxdpYO8lhq1wMzzlseNuK0j57-SHEvDtTJc1xaMAPPVuPP5BM7pZAVsvZ4xT3rTFUtcuvecrkZedYqwzRyABtOiCvd5QsgzPDCvgrn4kPYu4GsCWP2wkRYHQiWbE5KrC15teob0yTsDPIcryupqPKFYhN5Zic9sxIzkI5d4zvhNickbevsloaCpBpE8OGmGDUeHfut9sI-szPGhGpXsddS_4O6owigvJMVbIbToNPMsDPKC-dkC3KjBBr7PAa8qJhH9VN5puyxNHbJ61gkwulXo0ER3u7F5YPBFjHVLGjFrOQtw62xu_j2B_kqmEAta5oLnwCFGk7tFblYOvo843IcXA6YhBuwq0NYL_4qic1BYAMDzuQDzCgDR2XdQoi3qhTro6WNQWsgVURXGCLtU-BTJy4FcOXcZTnaACCJz8zLX1Bn4I2mvhc85xYnLD9g=w1122-h274-no)"
   ]
  },
  {
   "cell_type": "markdown",
   "metadata": {},
   "source": [
    "### ステップ2\n",
    "「+」ノードは上流地を下流にそのまま流すだけです。"
   ]
  },
  {
   "cell_type": "markdown",
   "metadata": {},
   "source": [
    "### ステップ3\n",
    "「exp」ノードは$y=\\exp(x)$を表し、その微分は次の式で表されます。\n",
    "\n",
    "$\\frac{\\partial y}{\\partial x} = \\exp(x)$\n",
    "\n",
    "計算グラフでは、上流の値（この例ではexp(-x))を乗算して下流へ伝播します。\n",
    "![expノードの逆伝播](https://lh3.googleusercontent.com/VqOEVi6G6YGyvSLADn-54vqV7nXk5WUT9KzMWelwPbqnm9Vb9WuHoW6fzs7Tqhk7q2vsERbNDKe-pAOYOy6V9pggUUd44fsrW4eJf_5Fjv1K6zFTAr9DnHMkIMFdaZF0-YLvtu3n4x8tiiTJQfqz9OZqMzMj5b3iZybDIepWrmY4NKwfNJVbBcAxlUDKItuWscVtGaRKmiQFDGUJYkGGw22Ch9mJZZSZjTKIPfoFBZxKsKNCF9bbXhy-SnCrvGr2QrU0LBX7OWXvRlnygVUb_y9A-fUd8gc2MTGLpajv3qWnqdzlmly_i3tkUZDX2zxQwxoXn1vqsx0JoUZuq0J8juKocMh7jXtFCcxVTKwa1GFK7IknmRuWG5sRNbkDBwUWUQzCDl5w-2vG3pOuEW39NakwqJ-kvhSh3yPEEqlHtO1Hu5TUHSocLVu6xbx2tDU9RECr0qSFzvrBzgVVffXHW1L2QjGRReys7O3px8Tm-HuN-msVbrDju27zbCq6japRLnBRvrU0utXd28zzeZ1LzTrp6rXowbzOC-7oeWOwGiEZCKlC6bfCuDy6V2PGFujMXHZJ8pfLvt2atuuI7aQrE8UcZFLkVjdsUqFq9hQ32lPRQ4ZQ-A6ylg=w1112-h260-no)"
   ]
  },
  {
   "cell_type": "markdown",
   "metadata": {},
   "source": [
    "### ステップ4\n",
    "「×」ノードは順伝播時の値を<strong>ひっくり返して</strong>乗算します。"
   ]
  },
  {
   "cell_type": "markdown",
   "metadata": {},
   "source": [
    "以上より、Sigmoidレイヤの逆伝播を行うことができました。\n",
    "結果から、逆伝播の出力は$\\frac{\\partial L}{\\partial　y}y^2 \\exp(-x)$となり、この値が下流にあるノードに伝播していきます。\n",
    "\n",
    "Sigmoidレイヤの計算グラフ\n",
    "![SIgmoidレイヤの計算グラフ](https://lh3.googleusercontent.com/JYYFLKhynzimaM4CuQ0SJKEvCfRTCjCmzs7WWEC7GzGSBIkrmSGB8mDnkJdGRb8tT6S_nnOWFLDQKwJHdjwQGFpSz1ORQPP5sgpVHAQPL7pPZdUYOkGyMUwoc9X4N1U6y6tYNJ3ACbk2I1SKTpIiWMXuscpBo5ZUj9u2EhfrQx931g8aoWQdMQKixuxgYCpLVhm6xGi_nZb33jagCl2bYqv9Hfl0CABtVIldSFE7hcBrfMUTpS6oScYlqo96i7IQqyfjTEDUmzj7ZzBn0vmRNufVDrDwPHci4fLhk_PZ0WXOQwFLMzUqjgMWbIkanliwAAxCMsRUiLOlKfWm-HU3sj0HPQGiG_i8-tOrHJq-DPyH6ofLMWg5yLw33CiIoSb3dm4k_UZofz9jeiUAUyeHx_siCbM5O9tyvHS42N1njHjdL45LVOAYnmHB-PHeKlgCsAkLaFEnFLM9lG7YPf-X9Mv1Cae7ginxDXJuoCeHA7e9R7FGWtXuV0f8rlAeUkaKCNBDh1Qp-cajm8NKsip3WI-yHzJNbV3TYiucKKKmmNd6kzayyIAXSK1EXgNOs7C8PeV3FbKMx3mvLgf0AYB5IpFfOBTEA6q3QfnBiOaLqlOh1UHok2bzNw=w798-h388-no)\n",
    "\n",
    "なお、$\\frac{\\partial L}{\\partial y}y^2 \\exp(-x)$は整理すると次のように書くことができます。\n",
    "\n",
    "\\begin{align}\n",
    "\\frac{\\partial L}{\\partial y}y^2 \\exp(-x) &= \\frac{\\partial L}{\\partial y}\\frac{1}{(1+\\exp(-x))^2}\\exp(-x) \\\\\n",
    "&=\\frac{\\partial L}{\\partial y}\\frac{1}{1+\\exp(-x)}\\frac{\\exp(-x)}{1+\\exp(-x)}\\\\\n",
    "&=\\frac{\\partial L}{\\partial y}y(1-y)\n",
    "\\end{align}\n",
    "\n",
    "そのため、順伝播の出力だけから計算することができるのです。\n",
    "\n",
    "![Sigmoidレイヤは順伝播の出力から計算できる](https://lh3.googleusercontent.com/BxPYewbSY5kFyC4z8smMTPp-HK1gFG3CxnUCMYV-THJshS922qKclrUulvRew68PqFZy8oGitquI4_GfOf6fRItAsQ_DUXhcMNDt3mVMdkQKQuRZhXVRAsYBeSTIaj4y3n8uNC0HGTgnUHsoJm-XvWwifqRQJljRcDj9BXZkyq72Xp85oi1VFr0auN6cj3988a8vIBtOUup9I30tjOM92Ogz49kfNMK-nJTDLLoGeRI6JFI6r6BahEzhLEFaS-HvP4YnumvXT9D6hg0nlxicXWc8EVvX7eeCk2wY4FhOhdqii712VIJpzWiSXtXJopA7hJNSOLtfg0yQk-83ZEmMbb8Df8wAgibZ5zg-izSJ6AroVAYJ-gwYhMt9A3BSqI3XMc4D0nFPjRTkKdtknWILgNausc9Q--G82qcPueLVAfjLRPHTdn85k0t1CZctPimTqWzt8faRw0kYjtX7TfV5fMYoJpu-7tqXicz2pP6drPfPCy2wEDKcsGbh-hMGGhfXAk_ApQyFpy4-vhJ7nrF6hAjHihP4YqOoGaKzKdwG0FxUEp0iNkpa7KdxKuUj9LO_e39mJm2KIO-Zyg4mRBJLE6zBbSA3_aWa4lrpv-cJuWG3YUtMiw1eQA=w788-h322-no)"
   ]
  },
  {
   "cell_type": "code",
   "execution_count": 3,
   "metadata": {
    "collapsed": true
   },
   "outputs": [],
   "source": [
    "# sigmoidレイヤの実装\n",
    "import numpy as np\n",
    "\n",
    "class sigmoid:\n",
    "    def __init__(self):\n",
    "        self.out = None\n",
    "        \n",
    "    def forward(self, x):\n",
    "        out = 1/(1+np.exp(-x))\n",
    "        self.out = out\n",
    "        \n",
    "        return out\n",
    "    \n",
    "    def backward(self, dout):\n",
    "        dx = dout * (1.0 - self.out) * self.out\n",
    "        \n",
    "        return dx"
   ]
  },
  {
   "cell_type": "markdown",
   "metadata": {},
   "source": [
    "抜粋:: 斎藤 康毅  “ゼロから作るDeep Learning”。 iBooks  "
   ]
  }
 ],
 "metadata": {
  "kernelspec": {
   "display_name": "Python [conda root]",
   "language": "python",
   "name": "conda-root-py"
  },
  "language_info": {
   "codemirror_mode": {
    "name": "ipython",
    "version": 3
   },
   "file_extension": ".py",
   "mimetype": "text/x-python",
   "name": "python",
   "nbconvert_exporter": "python",
   "pygments_lexer": "ipython3",
   "version": "3.5.2"
  }
 },
 "nbformat": 4,
 "nbformat_minor": 1
}
