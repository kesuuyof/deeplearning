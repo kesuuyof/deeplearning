{
 "cells": [
  {
   "cell_type": "markdown",
   "metadata": {},
   "source": [
    "# Sigmoidレイヤ\n",
    "\n",
    "シグモイド関数は次の式で表される関数でした。\n",
    "\n",
    "$y = \\frac{1}{1 + \\exp(-x)}$\n",
    "\n",
    "計算グラフで表すと以下のとおり\n",
    "\n",
    "![Sigmoidレイヤ](https://files.slack.com/files-pri/T0FNB0BP1-F4KNDP7G8/____________________________2017-03-19_16.46.14.png)"
   ]
  },
  {
   "cell_type": "markdown",
   "metadata": {},
   "source": [
    "### ステップ1\n",
    "$「/」ノードはy =\\frac{1}{x}を表しますが、この微分解析的に次の式によって表されます。$\n",
    "\n",
    "\\begin{align}\n",
    "\\frac{\\partial y}{\\partial x} &= -\\frac{1}{x^2} \\\\\n",
    " &= -y^2\n",
    "\\end{align}\n",
    "\n",
    "逆伝播のときは、上流の値に対して、$-y^2$(順伝播の出力の2乗にマイナスをつけた値)を乗算して下流へ伝播します。\n",
    "\n",
    "![除算の逆伝播](https://files.slack.com/files-tmb/T0FNB0BP1-F4KP9FD9P-b36df126b4/____________________________2017-03-19_16.58.34_1024.png)"
   ]
  },
  {
   "cell_type": "markdown",
   "metadata": {},
   "source": [
    "### ステップ2\n",
    "「+」ノードは上流地を下流にそのまま流すだけです。"
   ]
  },
  {
   "cell_type": "markdown",
   "metadata": {},
   "source": [
    "### ステップ3\n",
    "「exp」ノードは$y=\\exp(x)$を表し、その微分は次の式で表されます。\n",
    "\n",
    "$\\frac{\\partial y}{\\partial x} = \\exp(x)$\n",
    "\n",
    "計算グラフでは、上流の値（この例ではexp(-x))を乗算して下流へ伝播します。\n",
    "![expノードの逆伝播](https://files.slack.com/files-tmb/T0FNB0BP1-F4M4RGQ0P-62fab185d4/____________________________2017-03-19_17.02.42_1024.png)"
   ]
  },
  {
   "cell_type": "markdown",
   "metadata": {},
   "source": [
    "### ステップ4\n",
    "「×」ノードは順伝播時の値を<strong>ひっくり返して</strong>乗算します。"
   ]
  },
  {
   "cell_type": "markdown",
   "metadata": {},
   "source": [
    "以上より、Sigmoidレイヤの逆伝播を行うことができました。\n",
    "結果から、逆伝播の出力は$\\frac{\\partial L}{\\partial　y}y^2 \\exp(-x)$となり、この値が下流にあるノードに伝播していきます。\n",
    "\n",
    "Sigmoidレイヤの計算グラフ\n",
    "![SIgmoidレイヤの計算グラフ](https://files.slack.com/files-pri/T0FNB0BP1-F4LBSEZCK/____________________________2017-03-19_17.13.54.png)\n",
    "\n",
    "なお、$\\frac{\\partial L}{\\partial y}y^2 \\exp(-x)$は整理すると次のように書くことができます。\n",
    "\n",
    "\\begin{align}\n",
    "\\frac{\\partial L}{\\partial y}y^2 \\exp(-x) &= \\frac{\\partial L}{\\partial y}\\frac{1}{(1+\\exp(-x))^2}\\exp(-x) \\\\\n",
    "&=\\frac{\\partial L}{\\partial y}\\frac{1}{1+\\exp(-x)}\\frac{\\exp(-x)}{1+\\exp(-x)}\\\\\n",
    "&=\\frac{\\partial L}{\\partial y}y(1-y)\n",
    "\\end{align}\n",
    "\n",
    "そのため、順伝播の出力だけから計算することができるのです。\n",
    "\n",
    "![Sigmoidレイヤは順伝播の出力から計算できる](https://files.slack.com/files-pri/T0FNB0BP1-F4LEX3SKW/____________________________2017-03-19_17.23.49.png)"
   ]
  },
  {
   "cell_type": "code",
   "execution_count": 3,
   "metadata": {
    "collapsed": true
   },
   "outputs": [],
   "source": [
    "# sigmoidレイヤの実装\n",
    "import numpy as np\n",
    "\n",
    "class sigmoid:\n",
    "    def __init__(self):\n",
    "        self.out = None\n",
    "        \n",
    "    def forward(self, x):\n",
    "        out = 1/(1+np.exp(-x))\n",
    "        self.out = out\n",
    "        \n",
    "        return out\n",
    "    \n",
    "    def backward(self, dout):\n",
    "        dx = dout * (1.0 - self.out) * self.out\n",
    "        \n",
    "        return dx"
   ]
  },
  {
   "cell_type": "markdown",
   "metadata": {},
   "source": [
    "抜粋:: 斎藤 康毅  “ゼロから作るDeep Learning”。 iBooks  "
   ]
  }
 ],
 "metadata": {
  "anaconda-cloud": {},
  "kernelspec": {
   "display_name": "Python [conda root]",
   "language": "python",
   "name": "conda-root-py"
  },
  "language_info": {
   "codemirror_mode": {
    "name": "ipython",
    "version": 3
   },
   "file_extension": ".py",
   "mimetype": "text/x-python",
   "name": "python",
   "nbconvert_exporter": "python",
   "pygments_lexer": "ipython3",
   "version": "3.5.2"
  }
 },
 "nbformat": 4,
 "nbformat_minor": 1
}
