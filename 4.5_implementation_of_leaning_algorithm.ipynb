{
 "cells": [
  {
   "cell_type": "markdown",
   "metadata": {},
   "source": [
    "# 学習アルゴリズムの実装\n",
    "### 前提\n",
    "ニューラルネットワークには適応可能な重みとバイアスがあり、この重みとバイアスを訓練データに適応するように調整することを「学習」と呼ぶ。\n",
    "\n",
    "### ニューラルネットワークの学習手順\n",
    "1. ミニバッチ\n",
    "    - 訓練データの中からランダムに一部のデータを選び出す。ミニバッチの損失関数の値を減らすことを目的とする。\n",
    "\n",
    "2. 勾配の算出\n",
    "    -  ミニバッチの損失関数を減らすために、各重みパラメータの勾配を求める。\n",
    "\n",
    "3. パラメータ更新\n",
    "    - 重みパラメータを購買方向に微小量だけ更新する。\n",
    "\n",
    "4. 繰り返す\n",
    "    - ステップ1-4を繰り返す。\n",
    "    \n",
    "    \n",
    "## 確率的勾配降下法 (stochastic gradient descent)\n",
    "- 無作為に選びだしたデータに対して行う勾配降下法\n",
    "- 頭文字を取ってSGDという関数で実装されるのが一般的"
   ]
  },
  {
   "cell_type": "code",
   "execution_count": 60,
   "metadata": {
    "collapsed": true
   },
   "outputs": [],
   "source": [
    "# coding: utf-8\n",
    "import sys, os\n",
    "sys.path.append(os.pardir)  # 親ディレクトリのファイルをインポートするための設定\n",
    "from common.functions import *\n",
    "from common.gradient import numerical_gradient\n",
    "\n",
    "\n",
    "class TwoLayerNet:\n",
    "\n",
    "    def __init__(self, input_size, hidden_size, output_size, weight_init_std=0.01):\n",
    "        # 重みの初期化\n",
    "        self.params = {}\n",
    "        self.params['W1'] = weight_init_std * np.random.randn(input_size, hidden_size)\n",
    "        self.params['b1'] = np.zeros(hidden_size)\n",
    "        self.params['W2'] = weight_init_std * np.random.randn(hidden_size, output_size)\n",
    "        self.params['b2'] = np.zeros(output_size)\n",
    "\n",
    "    def predict(self, x):\n",
    "        W1, W2 = self.params['W1'], self.params['W2']\n",
    "        b1, b2 = self.params['b1'], self.params['b2']\n",
    "    \n",
    "        a1 = np.dot(x, W1) + b1\n",
    "        z1 = sigmoid(a1)\n",
    "        a2 = np.dot(z1, W2) + b2\n",
    "        y = softmax(a2)\n",
    "        \n",
    "        return y\n",
    "        \n",
    "    # x:入力データ, t:教師データ\n",
    "    def loss(self, x, t):\n",
    "        y = self.predict(x)\n",
    "        \n",
    "        return cross_entropy_error(y, t)\n",
    "    \n",
    "    def accuracy(self, x, t):\n",
    "        y = self.predict(x)\n",
    "        y = np.argmax(y, axis=1)\n",
    "        t = np.argmax(t, axis=1)\n",
    "        \n",
    "        accuracy = np.sum(y == t) / float(x.shape[0])\n",
    "        return accuracy\n",
    "        \n",
    "    # x:入力データ, t:教師データ\n",
    "    def numerical_gradient(self, x, t):\n",
    "        loss_W = lambda W: self.loss(x, t)\n",
    "        \n",
    "        grads = {}\n",
    "        grads['W1'] = numerical_gradient(loss_W, self.params['W1'])\n",
    "        grads['b1'] = numerical_gradient(loss_W, self.params['b1'])\n",
    "        grads['W2'] = numerical_gradient(loss_W, self.params['W2'])\n",
    "        grads['b2'] = numerical_gradient(loss_W, self.params['b2'])\n",
    "        \n",
    "        return grads\n",
    "        \n",
    "    def gradient(self, x, t):\n",
    "        W1, W2 = self.params['W1'], self.params['W2']\n",
    "        b1, b2 = self.params['b1'], self.params['b2']\n",
    "        grads = {}\n",
    "        \n",
    "        batch_num = x.shape[0]\n",
    "        \n",
    "        # forward\n",
    "        a1 = np.dot(x, W1) + b1\n",
    "        z1 = sigmoid(a1)\n",
    "        a2 = np.dot(z1, W2) + b2\n",
    "        y = softmax(a2)\n",
    "        \n",
    "        # backward\n",
    "        dy = (y - t) / batch_num\n",
    "        grads['W2'] = np.dot(z1.T, dy)\n",
    "        grads['b2'] = np.sum(dy, axis=0)\n",
    "        \n",
    "        da1 = np.dot(dy, W2.T)\n",
    "        dz1 = sigmoid_grad(a1) * da1\n",
    "        grads['W1'] = np.dot(x.T, dz1)\n",
    "        grads['b1'] = np.sum(dz1, axis=0)\n",
    "\n",
    "        return grads"
   ]
  },
  {
   "cell_type": "code",
   "execution_count": 61,
   "metadata": {
    "collapsed": false,
    "scrolled": false
   },
   "outputs": [
    {
     "data": {
      "text/plain": [
       "(784, 100)"
      ]
     },
     "execution_count": 61,
     "metadata": {},
     "output_type": "execute_result"
    }
   ],
   "source": [
    "# TwoLayerNetクラスのparams変数には重みパラメータが格納されている\n",
    "net = TwoLayerNet(input_size=784, hidden_size=100, output_size=10)\n",
    "net.params['W1'].shape # 第1層の重みパラメータ"
   ]
  },
  {
   "cell_type": "code",
   "execution_count": 62,
   "metadata": {
    "collapsed": false,
    "scrolled": true
   },
   "outputs": [
    {
     "data": {
      "text/plain": [
       "(100,)"
      ]
     },
     "execution_count": 62,
     "metadata": {},
     "output_type": "execute_result"
    }
   ],
   "source": [
    "net.params['b1'].shape # 第1層のバイアス"
   ]
  },
  {
   "cell_type": "code",
   "execution_count": 63,
   "metadata": {
    "collapsed": false,
    "scrolled": true
   },
   "outputs": [
    {
     "data": {
      "text/plain": [
       "(100, 10)"
      ]
     },
     "execution_count": 63,
     "metadata": {},
     "output_type": "execute_result"
    }
   ],
   "source": [
    "net.params['W2'].shape # 第2層の重みパラメータ"
   ]
  },
  {
   "cell_type": "code",
   "execution_count": 64,
   "metadata": {
    "collapsed": false
   },
   "outputs": [
    {
     "data": {
      "text/plain": [
       "(10,)"
      ]
     },
     "execution_count": 64,
     "metadata": {},
     "output_type": "execute_result"
    }
   ],
   "source": [
    "net.params['b2'].shape # 第2層のバイアス"
   ]
  },
  {
   "cell_type": "code",
   "execution_count": 65,
   "metadata": {
    "collapsed": false
   },
   "outputs": [
    {
     "name": "stdout",
     "output_type": "stream",
     "text": [
      "[[ 0.88416586  0.43317604  0.17315907 ...,  0.0204979   0.60599346\n",
      "   0.80655558]\n",
      " [ 0.81258679  0.35863765  0.40018272 ...,  0.27014564  0.83040961\n",
      "   0.55578968]\n",
      " [ 0.17308079  0.46081134  0.28882595 ...,  0.62600214  0.11213502\n",
      "   0.36088522]\n",
      " ..., \n",
      " [ 0.84320044  0.2808934   0.5724867  ...,  0.34903206  0.83875859\n",
      "   0.89610921]\n",
      " [ 0.93496794  0.63916696  0.98078704 ...,  0.14576107  0.06079858\n",
      "   0.31137782]\n",
      " [ 0.22637059  0.66423935  0.6243067  ...,  0.48180624  0.40782164\n",
      "   0.95295534]]\n"
     ]
    }
   ],
   "source": [
    "# 推論処理\n",
    "x = np.random.rand(100, 784)\n",
    "print(x)"
   ]
  },
  {
   "cell_type": "code",
   "execution_count": 66,
   "metadata": {
    "collapsed": false
   },
   "outputs": [
    {
     "name": "stdout",
     "output_type": "stream",
     "text": [
      "[[ 0.09885399  0.10253759  0.09853001  0.09847433  0.09831149  0.0927827\n",
      "   0.10212358  0.10455421  0.1006841   0.103148  ]\n",
      " [ 0.09905465  0.10281834  0.09858039  0.09847664  0.09837118  0.0930147\n",
      "   0.10234927  0.10416234  0.10057981  0.10259267]\n",
      " [ 0.09940438  0.10290949  0.09870082  0.09858117  0.09800426  0.09278136\n",
      "   0.10190214  0.10445149  0.1002313   0.10303358]\n",
      " [ 0.09928012  0.10230866  0.09822677  0.09859649  0.09860263  0.09271114\n",
      "   0.10218546  0.10425721  0.10076148  0.10307003]\n",
      " [ 0.09930721  0.10278338  0.09834168  0.09875446  0.09807379  0.0929773\n",
      "   0.10199631  0.10411022  0.10035538  0.10330026]\n",
      " [ 0.09904766  0.10270835  0.09852186  0.09830919  0.09816105  0.09308529\n",
      "   0.10199604  0.10457501  0.1006091   0.10298646]\n",
      " [ 0.0991239   0.10262854  0.09848696  0.09866085  0.09836037  0.09287753\n",
      "   0.10207097  0.10422179  0.1004621   0.10310699]\n",
      " [ 0.09948298  0.10301785  0.09851107  0.09853566  0.09837035  0.09301391\n",
      "   0.10153279  0.10415206  0.10078699  0.10259632]\n",
      " [ 0.09936861  0.10258134  0.09831885  0.09845296  0.09839134  0.09306934\n",
      "   0.10192387  0.10416555  0.10046558  0.10326255]\n",
      " [ 0.09898072  0.10285298  0.09882602  0.09869637  0.09825349  0.09271967\n",
      "   0.10224568  0.10411601  0.10050224  0.10280684]\n",
      " [ 0.09919852  0.10254165  0.09831494  0.09867977  0.098354    0.09309234\n",
      "   0.10221359  0.10420639  0.10023308  0.10316572]\n",
      " [ 0.09910505  0.10288872  0.09827726  0.09861029  0.09819476  0.09304866\n",
      "   0.10190192  0.10451645  0.10037586  0.10308103]\n",
      " [ 0.09908195  0.10282932  0.09852388  0.09824763  0.09829814  0.09275374\n",
      "   0.10200208  0.10454054  0.10072011  0.1030026 ]\n",
      " [ 0.09914743  0.10289491  0.09843691  0.0983381   0.0982156   0.09275909\n",
      "   0.10201675  0.10450241  0.10084731  0.10284149]\n",
      " [ 0.09925822  0.10253854  0.09854693  0.09885466  0.09813094  0.09298149\n",
      "   0.10158034  0.10413096  0.10072523  0.1032527 ]\n",
      " [ 0.09906229  0.10286351  0.09838338  0.09847367  0.09828907  0.09314596\n",
      "   0.10181602  0.10433371  0.10033786  0.10329453]\n",
      " [ 0.09927465  0.1026052   0.09866714  0.09857308  0.09816604  0.09281599\n",
      "   0.10201835  0.10444651  0.10065224  0.10278081]\n",
      " [ 0.09930272  0.10291442  0.09863679  0.09833498  0.09789755  0.09323481\n",
      "   0.10191479  0.10428328  0.10046499  0.10301567]\n",
      " [ 0.09919827  0.10252287  0.09828982  0.09849352  0.09840397  0.09294196\n",
      "   0.10210971  0.1043349   0.10055482  0.10315016]\n",
      " [ 0.09949907  0.10265189  0.09810136  0.09862778  0.09867266  0.09306091\n",
      "   0.10189474  0.10423367  0.10027014  0.10298779]\n",
      " [ 0.09913091  0.10285416  0.09845379  0.09851094  0.09846003  0.09308438\n",
      "   0.10175364  0.10439623  0.10043919  0.10291674]\n",
      " [ 0.09923199  0.10267114  0.09851923  0.09828984  0.09814161  0.09310805\n",
      "   0.10200874  0.10467219  0.10034164  0.10301558]\n",
      " [ 0.0991163   0.10279932  0.0982222   0.09843777  0.0980012   0.09316582\n",
      "   0.10162302  0.10439725  0.10102303  0.1032141 ]\n",
      " [ 0.09923118  0.10288527  0.09854687  0.09835383  0.0977918   0.09304083\n",
      "   0.10218531  0.10456253  0.1005137   0.10288867]\n",
      " [ 0.09915358  0.10263597  0.09850528  0.09830159  0.09800611  0.09305382\n",
      "   0.10208404  0.10438314  0.10051512  0.10336134]\n",
      " [ 0.09913832  0.10275548  0.09859103  0.098711    0.09829603  0.09280814\n",
      "   0.10232154  0.1043417   0.10027989  0.10275686]\n",
      " [ 0.0990067   0.10266769  0.09874887  0.09865914  0.09805337  0.09298648\n",
      "   0.10241055  0.10397939  0.10043591  0.10305191]\n",
      " [ 0.09923347  0.10268778  0.09835926  0.09842117  0.0982781   0.09313909\n",
      "   0.10199452  0.10427229  0.10050079  0.10311354]\n",
      " [ 0.09917163  0.10256749  0.0986027   0.0984403   0.09820223  0.09303795\n",
      "   0.10204527  0.10425493  0.10070967  0.10296783]\n",
      " [ 0.09923385  0.10259943  0.09852851  0.09824093  0.09799599  0.09310223\n",
      "   0.10181409  0.10468945  0.10068001  0.1031155 ]\n",
      " [ 0.09927277  0.10267102  0.0984673   0.09835364  0.09850666  0.09296944\n",
      "   0.10185755  0.1042202   0.10057083  0.10311059]\n",
      " [ 0.0991982   0.1032399   0.09853469  0.09881869  0.09822884  0.09268332\n",
      "   0.10170154  0.10411443  0.1005654   0.10291499]\n",
      " [ 0.09898741  0.10302225  0.09833672  0.09837725  0.09839632  0.0928551\n",
      "   0.10186909  0.10457987  0.10046126  0.10311472]\n",
      " [ 0.09907745  0.10241911  0.09872976  0.09859671  0.09801624  0.09334975\n",
      "   0.10217949  0.10392916  0.10073284  0.10296949]\n",
      " [ 0.09923578  0.1027128   0.09841355  0.09844032  0.09794269  0.0934009\n",
      "   0.10211606  0.10443055  0.1000948   0.10321254]\n",
      " [ 0.09912223  0.1028759   0.09861987  0.0981765   0.09821877  0.09293226\n",
      "   0.10219101  0.10445736  0.10045164  0.10295446]\n",
      " [ 0.09914254  0.10286743  0.09812099  0.09864699  0.09776418  0.09315401\n",
      "   0.1019412   0.10447605  0.10049618  0.10339044]\n",
      " [ 0.09916186  0.10251974  0.09840773  0.09856621  0.09833918  0.09275151\n",
      "   0.10243684  0.10441762  0.10034829  0.10305102]\n",
      " [ 0.09947648  0.10271707  0.09861267  0.09867192  0.09808464  0.0926683\n",
      "   0.10206297  0.10441468  0.10045844  0.10283283]\n",
      " [ 0.09908192  0.10258427  0.09813612  0.09868917  0.09829857  0.09278517\n",
      "   0.10202545  0.10453156  0.10066579  0.10320199]\n",
      " [ 0.09916954  0.10265084  0.09835998  0.0984102   0.09786867  0.09290772\n",
      "   0.10224393  0.10455524  0.10025534  0.10357853]\n",
      " [ 0.09924579  0.10288512  0.09860699  0.0982959   0.09811057  0.0926737\n",
      "   0.10228135  0.10453298  0.10048149  0.10288611]\n",
      " [ 0.09889686  0.10283669  0.09845105  0.09813635  0.09819485  0.09295567\n",
      "   0.10256356  0.10444027  0.10023101  0.1032937 ]\n",
      " [ 0.09942968  0.10271781  0.0983205   0.0985986   0.09855608  0.09248535\n",
      "   0.10174476  0.10486814  0.10044031  0.10283877]\n",
      " [ 0.09930637  0.10284721  0.09856899  0.09876683  0.09814707  0.09285847\n",
      "   0.10167153  0.10439291  0.10072568  0.10271494]\n",
      " [ 0.09911778  0.10269142  0.09827575  0.09837597  0.09824183  0.09288584\n",
      "   0.10216609  0.10428907  0.1006263   0.10332995]\n",
      " [ 0.09935502  0.10268002  0.09868716  0.09864723  0.09828491  0.09308012\n",
      "   0.1018135   0.1043865   0.10008394  0.1029816 ]\n",
      " [ 0.09922055  0.10252173  0.09860524  0.09855516  0.09828788  0.09292498\n",
      "   0.10218163  0.10403609  0.10059181  0.10307494]\n",
      " [ 0.09912602  0.1023516   0.09859924  0.09861891  0.09810847  0.09282506\n",
      "   0.10251598  0.10419436  0.10032311  0.10333725]\n",
      " [ 0.09911451  0.10274208  0.09821262  0.09832951  0.09863648  0.09288223\n",
      "   0.10182458  0.10455883  0.10065117  0.103048  ]\n",
      " [ 0.09913507  0.10296413  0.09824292  0.09868987  0.0982179   0.09259417\n",
      "   0.10211448  0.10453547  0.10061788  0.10288809]\n",
      " [ 0.09900937  0.10257039  0.09835367  0.09882437  0.09826894  0.09313735\n",
      "   0.10220433  0.1043336   0.10064099  0.10265698]\n",
      " [ 0.09898092  0.10271823  0.09828278  0.09831378  0.09826665  0.09342291\n",
      "   0.10196268  0.10453994  0.1003458   0.10316631]\n",
      " [ 0.09910951  0.10245539  0.09866101  0.0985819   0.09812697  0.09307984\n",
      "   0.10232193  0.10440586  0.10019559  0.103062  ]\n",
      " [ 0.09924556  0.10248613  0.09843325  0.09844685  0.09846401  0.09285098\n",
      "   0.10179161  0.10496402  0.1003393   0.1029783 ]\n",
      " [ 0.09918633  0.10284997  0.09850546  0.09854305  0.09801575  0.0927928\n",
      "   0.10185637  0.10438113  0.10052079  0.10334836]\n",
      " [ 0.09900969  0.10299644  0.09852318  0.09874496  0.09821867  0.09308088\n",
      "   0.10187303  0.10448319  0.10027093  0.10279902]\n",
      " [ 0.0993366   0.10260105  0.09870711  0.09862235  0.0977414   0.09312713\n",
      "   0.10220141  0.10426387  0.10005729  0.10334179]\n",
      " [ 0.09930534  0.10242303  0.09828323  0.09878935  0.09814961  0.09324699\n",
      "   0.10188714  0.10422525  0.100624    0.10306606]\n",
      " [ 0.09937062  0.10246211  0.09857243  0.09842264  0.09813908  0.09293196\n",
      "   0.10220749  0.10430957  0.10045969  0.10312443]\n",
      " [ 0.09920494  0.10256453  0.09833429  0.09834254  0.09836368  0.0929344\n",
      "   0.10199927  0.1044342   0.10047428  0.10334786]\n",
      " [ 0.09924884  0.10252137  0.09841168  0.09831712  0.09799457  0.09324104\n",
      "   0.10222316  0.10422351  0.10051913  0.10329958]\n",
      " [ 0.09919606  0.10255923  0.09846777  0.09852419  0.09824029  0.09288179\n",
      "   0.10210597  0.10433806  0.10033868  0.10334795]\n",
      " [ 0.09934258  0.10272604  0.09843169  0.09887948  0.09811423  0.09273491\n",
      "   0.10215165  0.10451251  0.10027778  0.10282913]\n",
      " [ 0.09918431  0.10258095  0.09855373  0.09875832  0.09836146  0.09308749\n",
      "   0.10172138  0.10400534  0.10063425  0.10311276]\n",
      " [ 0.09909101  0.10279799  0.09853642  0.09868973  0.09800199  0.09295161\n",
      "   0.10232616  0.10423439  0.10016594  0.10320475]\n",
      " [ 0.09933701  0.10277174  0.09845801  0.09881005  0.09814833  0.0929726\n",
      "   0.10145617  0.104411    0.10058118  0.1030539 ]\n",
      " [ 0.09915784  0.10286757  0.09846105  0.0985006   0.09828369  0.09300079\n",
      "   0.10194597  0.10463805  0.10026901  0.10287543]\n",
      " [ 0.09926732  0.10289799  0.09834463  0.09849639  0.09830525  0.09280261\n",
      "   0.10198524  0.10431432  0.10060652  0.10297973]\n",
      " [ 0.09929661  0.10223609  0.0986165   0.09895834  0.09826109  0.0929647\n",
      "   0.10221225  0.10407852  0.10020602  0.10316988]\n",
      " [ 0.09907963  0.10274437  0.09828922  0.09851159  0.09842101  0.09297279\n",
      "   0.102007    0.10452087  0.10043107  0.10302245]\n",
      " [ 0.09905237  0.10275599  0.09844631  0.09832717  0.09786418  0.09307964\n",
      "   0.10184665  0.10462441  0.10064534  0.10335794]\n",
      " [ 0.09913453  0.10300975  0.09864766  0.09834696  0.09814219  0.09304815\n",
      "   0.10172022  0.10426201  0.1006059   0.10308263]\n",
      " [ 0.09932983  0.10286049  0.09837074  0.09892063  0.09845561  0.09282187\n",
      "   0.10163173  0.10413785  0.10047942  0.10299183]\n",
      " [ 0.09906327  0.10236645  0.09848638  0.09859591  0.09829265  0.09294648\n",
      "   0.10189152  0.10487735  0.10044644  0.10303353]\n",
      " [ 0.09919788  0.10280891  0.09853335  0.09867752  0.09818628  0.09301706\n",
      "   0.10188935  0.10414112  0.10077597  0.10277255]\n",
      " [ 0.09930957  0.10276388  0.09815066  0.0987774   0.09818539  0.09310455\n",
      "   0.10193517  0.10433718  0.10051157  0.10292464]\n",
      " [ 0.09921501  0.10291586  0.09867772  0.09845546  0.09812971  0.09317437\n",
      "   0.1016528   0.10428221  0.10054075  0.10295611]\n",
      " [ 0.09930645  0.10263229  0.09798727  0.09823237  0.0984323   0.09315563\n",
      "   0.10177662  0.10463354  0.10060686  0.10323666]\n",
      " [ 0.09902677  0.10299996  0.09864904  0.09855532  0.09814585  0.0929574\n",
      "   0.10202352  0.10416776  0.10046582  0.10300857]\n",
      " [ 0.09924158  0.10268558  0.09869994  0.09854366  0.09813934  0.09273447\n",
      "   0.10217533  0.10433295  0.10036345  0.10308371]\n",
      " [ 0.09919009  0.10298961  0.0983622   0.09846236  0.09795392  0.09310239\n",
      "   0.10234276  0.10408805  0.10053874  0.10296989]\n",
      " [ 0.09921554  0.1027219   0.0984047   0.09855966  0.09811683  0.09278168\n",
      "   0.10235366  0.10462827  0.10021174  0.10300603]\n",
      " [ 0.09921312  0.10304647  0.09836901  0.098369    0.09840833  0.09291285\n",
      "   0.10194939  0.10395582  0.10076837  0.10300763]\n",
      " [ 0.0994509   0.10274871  0.09852601  0.09852428  0.09815819  0.09290906\n",
      "   0.10210126  0.10437021  0.10039245  0.10281892]\n",
      " [ 0.0993547   0.10294265  0.09828343  0.09833892  0.09803464  0.09322088\n",
      "   0.10153343  0.10454334  0.10061758  0.10313043]\n",
      " [ 0.09920771  0.1026662   0.09850804  0.09857439  0.09798696  0.09319579\n",
      "   0.10187208  0.10437047  0.10052671  0.10309166]\n",
      " [ 0.09901687  0.10283554  0.09852144  0.0987252   0.09804495  0.09299314\n",
      "   0.10207111  0.10438148  0.10028811  0.10312216]\n",
      " [ 0.09938798  0.10241319  0.09828141  0.09865846  0.09814866  0.09308373\n",
      "   0.10204058  0.10422369  0.10048511  0.10327719]\n",
      " [ 0.09901997  0.10255147  0.09852352  0.09861847  0.09840991  0.09309743\n",
      "   0.10204329  0.10438603  0.10031827  0.10303164]\n",
      " [ 0.09916282  0.10258382  0.09839915  0.09878534  0.09818909  0.0929649\n",
      "   0.1017985   0.10434715  0.1004961   0.10327311]\n",
      " [ 0.09927589  0.1029997   0.09867449  0.09855852  0.0981843   0.09297878\n",
      "   0.10176578  0.10406751  0.10020745  0.10328757]\n",
      " [ 0.09950042  0.10227192  0.09834381  0.09876165  0.09849543  0.09295495\n",
      "   0.10198058  0.10420893  0.10053685  0.10294548]\n",
      " [ 0.09923813  0.10299082  0.09840963  0.09876771  0.09818528  0.09277074\n",
      "   0.10164382  0.10434997  0.10055841  0.10308548]\n",
      " [ 0.09921698  0.10304469  0.09831318  0.09817749  0.09843044  0.09308507\n",
      "   0.10190623  0.10419186  0.10042986  0.1032042 ]\n",
      " [ 0.09938184  0.10284321  0.09856997  0.09846501  0.0979605   0.09286592\n",
      "   0.10177012  0.10422716  0.10045018  0.10346609]\n",
      " [ 0.09946102  0.10245804  0.09830918  0.09843216  0.09790789  0.09298402\n",
      "   0.10236814  0.10428889  0.10036103  0.10342963]\n",
      " [ 0.09932721  0.10243859  0.09832785  0.09865106  0.09841018  0.09284331\n",
      "   0.10237368  0.10446182  0.10036748  0.10279882]\n",
      " [ 0.0991574   0.10287827  0.09839631  0.09847248  0.09799341  0.0929937\n",
      "   0.10196026  0.10463178  0.10044664  0.10306976]\n",
      " [ 0.09925002  0.10249097  0.09844534  0.0986188   0.09833285  0.09272579\n",
      "   0.10230848  0.10452543  0.10043228  0.10287004]]\n"
     ]
    }
   ],
   "source": [
    "y = net.predict(x)\n",
    "print(y)"
   ]
  },
  {
   "cell_type": "code",
   "execution_count": 67,
   "metadata": {
    "collapsed": false
   },
   "outputs": [
    {
     "data": {
      "text/plain": [
       "(10,)"
      ]
     },
     "execution_count": 67,
     "metadata": {},
     "output_type": "execute_result"
    }
   ],
   "source": [
    "# grads変数にはparams変数と対応するように各パラメータの勾配が格納される\n",
    "x = np.random.rand(100, 784) # 入力画像サイズが28×28の計784個\n",
    "t = np.random.rand(100, 10)\n",
    "\n",
    "grads = net.numerical_gradient(x, t) # 勾配を計算\n",
    "\n",
    "grads['W1'].shape  # (784, 100)\n",
    "grads['b1'].shape  # (100,)\n",
    "grads['W2'].shape  # (100, 10)\n",
    "grads['b2'].shape  # (10,)"
   ]
  },
  {
   "cell_type": "markdown",
   "metadata": {},
   "source": [
    "# ミニバッチ学習の実装\n",
    "- ミニバッチ学習とは訓練データから無作為に一部のデータを取り出して-- これをミニバッチという -- そのミニバッチを対象に、勾配法によりパラメータを更新するもの。"
   ]
  },
  {
   "cell_type": "markdown",
   "metadata": {},
   "source": [
    "# テストデータで評価\n",
    "### ニューラルネットワークの学習では、訓練データ以外のデータを正しく認識できるかどうかを確認する必要があります。これは「過学習」を起こしていないかの確認\n",
    "- 過学習を起こすとは、例えば訓練データだけを正しく認識でき、訓練データに含まれないものは識別できないこと。"
   ]
  },
  {
   "cell_type": "code",
   "execution_count": 70,
   "metadata": {
    "collapsed": false
   },
   "outputs": [
    {
     "name": "stdout",
     "output_type": "stream",
     "text": [
      "train acc, test acc | 0.112433333333, 0.1135\n",
      "train acc, test acc | 0.79055, 0.7961\n",
      "train acc, test acc | 0.876566666667, 0.8805\n",
      "train acc, test acc | 0.8984, 0.9017\n",
      "train acc, test acc | 0.908766666667, 0.9126\n",
      "train acc, test acc | 0.914316666667, 0.9165\n",
      "train acc, test acc | 0.9208, 0.9193\n",
      "train acc, test acc | 0.925, 0.9242\n",
      "train acc, test acc | 0.9282, 0.9277\n",
      "train acc, test acc | 0.931283333333, 0.9321\n",
      "train acc, test acc | 0.934383333333, 0.9342\n",
      "train acc, test acc | 0.93645, 0.9371\n",
      "train acc, test acc | 0.939, 0.9384\n",
      "train acc, test acc | 0.940816666667, 0.9411\n",
      "train acc, test acc | 0.94275, 0.9432\n",
      "train acc, test acc | 0.94525, 0.9449\n",
      "train acc, test acc | 0.946, 0.9446\n"
     ]
    },
    {
     "data": {
      "image/png": "[encoded data removed]",
      "text/plain": [
       "<matplotlib.figure.Figure at 0x116fce160>"
      ]
     },
     "metadata": {},
     "output_type": "display_data"
    }
   ],
   "source": [
    "# coding: utf-8\n",
    "import sys, os\n",
    "sys.path.append(os.pardir)  # 親ディレクトリのファイルをインポートするための設定\n",
    "from common.functions import *\n",
    "from common.gradient import numerical_gradient\n",
    "\n",
    "# coding: utf-8\n",
    "import sys, os\n",
    "sys.path.append(os.pardir)  # 親ディレクトリのファイルをインポートするための設定\n",
    "import numpy as np\n",
    "import matplotlib.pyplot as plt\n",
    "from dataset.mnist import load_mnist\n",
    "\n",
    "# データの読み込み\n",
    "(x_train, t_train), (x_test, t_test) = load_mnist(normalize=True, one_hot_label=True)\n",
    "\n",
    "network = TwoLayerNet(input_size=784, hidden_size=50, output_size=10)\n",
    "\n",
    "iters_num = 10000  # 繰り返しの回数を適宜設定する\n",
    "train_size = x_train.shape[0]\n",
    "batch_size = 100\n",
    "learning_rate = 0.1\n",
    "\n",
    "train_loss_list = []\n",
    "train_acc_list = []\n",
    "test_acc_list = []\n",
    "\n",
    "iter_per_epoch = max(train_size / batch_size, 1)\n",
    "\n",
    "for i in range(iters_num):\n",
    "    batch_mask = np.random.choice(train_size, batch_size)\n",
    "    x_batch = x_train[batch_mask]\n",
    "    t_batch = t_train[batch_mask]\n",
    "    \n",
    "    # 勾配の計算\n",
    "    #grad = network.numerical_gradient(x_batch, t_batch)\n",
    "    grad = network.gradient(x_batch, t_batch)\n",
    "    \n",
    "    # パラメータの更新\n",
    "    for key in ('W1', 'b1', 'W2', 'b2'):\n",
    "        network.params[key] -= learning_rate * grad[key]\n",
    "    \n",
    "    loss = network.loss(x_batch, t_batch)\n",
    "    train_loss_list.append(loss)\n",
    "    \n",
    "    if i % iter_per_epoch == 0:\n",
    "        train_acc = network.accuracy(x_train, t_train)\n",
    "        test_acc = network.accuracy(x_test, t_test)\n",
    "        train_acc_list.append(train_acc)\n",
    "        test_acc_list.append(test_acc)\n",
    "        print(\"train acc, test acc | \" + str(train_acc) + \", \" + str(test_acc))\n",
    "\n",
    "# グラフの描画\n",
    "markers = {'train': 'o', 'test': 's'}\n",
    "x = np.arange(len(train_acc_list))\n",
    "plt.plot(x, train_acc_list, label='train acc')\n",
    "plt.plot(x, test_acc_list, label='test acc', linestyle='--')\n",
    "plt.xlabel(\"epochs\")\n",
    "plt.ylabel(\"accuracy\")\n",
    "plt.ylim(0, 1.0)\n",
    "plt.legend(loc='lower right')\n",
    "plt.show()"
   ]
  },
  {
   "cell_type": "markdown",
   "metadata": {},
   "source": [
    "## ↑のグラフ\n",
    "- 実線:訓練データの認識精度\n",
    "- 破線:テストデータの認識精度\n",
    "\n",
    "2つに差がないことから過学習は起こっていないことが分かる。"
   ]
  },
  {
   "cell_type": "code",
   "execution_count": null,
   "metadata": {
    "collapsed": true
   },
   "outputs": [],
   "source": []
  }
 ],
 "metadata": {
  "anaconda-cloud": {},
  "kernelspec": {
   "display_name": "Python [conda root]",
   "language": "python",
   "name": "conda-root-py"
  },
  "language_info": {
   "codemirror_mode": {
    "name": "ipython",
    "version": 3
   },
   "file_extension": ".py",
   "mimetype": "text/x-python",
   "name": "python",
   "nbconvert_exporter": "python",
   "pygments_lexer": "ipython3",
   "version": "3.5.2"
  }
 },
 "nbformat": 4,
 "nbformat_minor": 1
}
