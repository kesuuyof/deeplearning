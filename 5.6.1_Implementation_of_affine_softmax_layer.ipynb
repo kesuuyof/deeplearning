{
 "cells": [
  {
   "cell_type": "markdown",
   "metadata": {},
   "source": [
    "# 5.6 Affine/Softmaxレイヤの実装\n",
    "\n",
    "## Affineレイヤ\n",
    "ニューラルネットワークの順伝播で行う行列の内積は、幾何学のぶんやでは「アフィン関数」と呼ばれます。\n",
    "そのため、ここではアフィン変換を行う処理を「Affineレイヤ」という名前で実装していきます。"
   ]
  },
  {
   "cell_type": "code",
   "execution_count": 8,
   "metadata": {
    "collapsed": false
   },
   "outputs": [
    {
     "name": "stdout",
     "output_type": "stream",
     "text": [
      "(2,)\n",
      "(2, 3)\n",
      "(3,)\n",
      "[ 1.21027663  1.8742506   2.07828606]\n"
     ]
    }
   ],
   "source": [
    "# 行列の内積\n",
    "import numpy as np\n",
    "X = np.random.rand(2) # 入力\n",
    "W= np.random.rand(2,3) # 重み\n",
    "B = np.random.rand(3) # バイアス\n",
    "\n",
    "print(X.shape )\n",
    "print(W.shape)\n",
    "print(B.shape)\n",
    "\n",
    "Y = np.dot(X, W) + B\n",
    "print(Y)"
   ]
  },
  {
   "cell_type": "markdown",
   "metadata": {},
   "source": [
    "ここでは、X,W,Bはそれぞれ形状が(2,)(2,3)(3,)の多次元配列であるとします。\n",
    "ニューロンの重み付き和は、Y= np.dot(X, W) + Bのように計算できます。\n",
    "そして、このUYが活性化関数によって変換され、次の層へ伝播される、というのがニューラルネットワークの順伝播でした。\n",
    "\n",
    "![行列の内積では対応させる次元数を一致させる](https://files.slack.com/files-pri/T0FNB0BP1-F4LL63TE1/____________________________2017-03-20_11.18.00.png)"
   ]
  },
  {
   "cell_type": "markdown",
   "metadata": {},
   "source": [
    "#### 行列の内積とバイアスの和を計算グラフで表す\n",
    "\n",
    "![行列の内積とバイアス](https://files.slack.com/files-tmb/T0FNB0BP1-F4KS68G0G-f52fe97b49/____________________________2017-03-20_11.18.07_1024.png)\n",
    "\n",
    "これまで見てきた計算グラフはスカラ値がノード間を流れていたが、この例では行列がノード間を伝播します。"
   ]
  },
  {
   "cell_type": "markdown",
   "metadata": {},
   "source": [
    "#### 行列を対象とした逆伝播\n",
    "\n",
    "$\\frac{\\partial L}{\\partial X} = \\frac{\\partial L}{\\partial Y}\\cdot W^T $\n",
    "\n",
    "$\\frac{\\partial L}{\\partial W} = X^T \\cdot \\frac{\\partial L}{\\partial Y} $\n",
    "\n",
    "\n",
    "$W^TのTは転置を表す$\n",
    "$転置とは、Wの(i,j)の要素を(j,i)の要素に入れ替えることをいう$\n",
    "\n",
    "実際数式で表すと以下のようになる。\n",
    "Wの形状が(2,3)であるとすると、$W^T$の形状は(3,2)になる\n",
    "\n",
    "$$W =  \\left(\n",
    "\\begin{matrix}\n",
    "w_{11} & w_{21} &  w_{31} \\\\\n",
    "w_{12} & w_{22} &  w_{32} \n",
    "\\end{matrix}\n",
    "\\right)\n",
    "$$\n",
    "\n",
    "$$W^T =  \\left(\n",
    "\\begin{matrix}\n",
    "w_{11} & w_{21} \\\\\n",
    "w_{12} & w_{22} \\\\\n",
    "w_{13} & w_{23}\n",
    "\\end{matrix}\n",
    "\\right)\n",
    "$$\n",
    "\n",
    "#### Affineレイヤの逆伝播\n",
    "![Affineレイヤの逆伝播](https://files.slack.com/files-tmb/T0FNB0BP1-F4M8QPTSB-29c8744291/____________________________2017-03-20_11.59.11_1024.png)\n",
    "\n",
    "\n",
    "$以下の数式より、 \\rm X と \\frac{\\partial L}{\\partial X} が同じ形状になる$\n",
    "\n",
    "$X = (x_0, x_1, \\cdots , x_n)$\n",
    "\n",
    "$\\frac{\\partial L}{\\partial X} = (\\frac{\\partial L}{\\partial x_0}, \\frac{\\partial L}{\\partial x_1}, \\cdots , \\frac{\\partial L}{\\partial x_n})$\n"
   ]
  },
  {
   "cell_type": "markdown",
   "metadata": {},
   "source": [
    "### 行列の積\n",
    "$[m行 n列 ] \\cdot [n行 p列] = [m行 p列]$\n",
    "\n",
    "\n",
    "$$\n",
    "\\begin{align}\n",
    "\\left(\n",
    "\\begin{matrix}\n",
    "w_{11} & w_{21} &  w_{31}\n",
    "\\end{matrix}\n",
    "\\right)\n",
    "& \\cdot \\left(\n",
    "\\begin{matrix}\n",
    "w_{11} & w_{21} \\\\\n",
    "w_{12} & w_{22} \\\\\n",
    "w_{13} & w_{23}\n",
    "\\end{matrix}\n",
    "\\right)\n",
    "&=\n",
    "\\left(\n",
    "\\begin{matrix}\n",
    "w_{11} \\\\\n",
    "w_{12} \\\\\n",
    "w_{13}\n",
    "\\end{matrix}\n",
    "\\right)\\\\\n",
    "(m行, n列) & \\cdot (n行, p列)  &= (m行, p列)\n",
    "\\end{align}\n",
    "$$\n"
   ]
  }
 ],
 "metadata": {
  "anaconda-cloud": {},
  "kernelspec": {
   "display_name": "Python [conda root]",
   "language": "python",
   "name": "conda-root-py"
  },
  "language_info": {
   "codemirror_mode": {
    "name": "ipython",
    "version": 3
   },
   "file_extension": ".py",
   "mimetype": "text/x-python",
   "name": "python",
   "nbconvert_exporter": "python",
   "pygments_lexer": "ipython3",
   "version": "3.5.2"
  }
 },
 "nbformat": 4,
 "nbformat_minor": 1
}
