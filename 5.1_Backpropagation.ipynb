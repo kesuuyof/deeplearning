{
 "cells": [
  {
   "cell_type": "markdown",
   "metadata": {},
   "source": [
    "# 誤差逆伝播法 (backpropagation)\n",
    "\n",
    "誤差逆伝播法を理解するための方法\n",
    "### 数式\n",
    "### 計算グラフ\n",
    "- 順伝播(forward propagatinon)\n",
    " - 計算の結果を順方向に伝達する。\n",
    "- 逆伝播(backward propagation)\n",
    " - 「局所的な微分」を順方向とは逆向きに伝達する\n",
    "   \n",
    "#### 計算グラフの特徴\n",
    "1. 局所的な計算ができる\n",
    " - 全体でどのようなことが行われていても、自分に関係する情報だけから次の結果（その先の結果）を出力することができる\n",
    "2. 逆方向の伝播によって「微分」を効率よく計算できる\n",
    "\n",
    "##### 逆伝播とは\n",
    "- x: りんごの値段\n",
    "- L:支払金額\n",
    "\n",
    "とした場合\n",
    "\n",
    "$\\frac{\\partial L}{\\partial x}$ を求めることに相当する\n",
    "\n"
   ]
  },
  {
   "cell_type": "markdown",
   "metadata": {},
   "source": [
    "# 連鎖率\n",
    "\n",
    "局所的な微分とは\n",
    "$順伝播でのy=f(x)という計算の微分を求めること$\n",
    "\n",
    "### 合成関数\n",
    "複数の関数によって構成される関数のこと。\n",
    "例\n",
    "\n",
    "$z = t^2$\n",
    "\n",
    "$t = x + y$\n",
    "\n",
    "連鎖率とは合成関数の微分についての性質であり、次のように定義される。\n",
    "\n",
    "*ある関数が合成関数で表される場合、その合成関数の微分は、合成関数を構成するそれぞれの関数の微分の積によって表すことができる。*\n",
    "\n",
    "つまり\n",
    "\n",
    "$\\frac{\\partial z}{\\partial x}  =  \\frac{\\partial z}{\\partial t}\\times \\frac{\\partial x}{\\partial t}$ \n",
    "\n",
    "$ (xに関するzの微分) = (tに関するzの微分) \\times (tに関するxの微分)$\n",
    "\n",
    "例の場合\n",
    "\n",
    "$\\frac{\\partial z }{\\partial t }  = 2t$\n",
    "\n",
    "$\\frac{\\partial t }{\\partial x } = 1$\n",
    "\n",
    "$\\frac{\\partial z}{\\partial x} = \\frac{\\partial z}{\\partial t}\\frac{\\partial t}{\\partial x} = 2t \\times 1 = 2(x + y) $"
   ]
  },
  {
   "cell_type": "markdown",
   "metadata": {},
   "source": [
    "# 逆伝播\n",
    "\n",
    "## 加算ノードの逆伝播\n",
    "\n",
    "例: $z=x+y$という数式について\n",
    "\n",
    "$\\frac{\\partial z}{\\partial x} = 1$\n",
    "\n",
    "$\\frac{\\partial z}{\\partial y} = 1$"
   ]
  },
  {
   "cell_type": "markdown",
   "metadata": {},
   "source": [
    "![加算ノードの逆伝播](https://lh3.googleusercontent.com/CWV-oa_nYwGg5dVQ6-G_7vgbV8mPRYVN-O4IVmCWQNa_FwoCCmEKvV8ovW9zSpCDSFAEh3_dEO4Dzp6Gvvz6ac29m1qUDFHh3CU-oRHPPQoE5Pl_BqA5EZY6AIabGPTOxhsi5WCsM87kLedhdNiXWhTsE4uEX2hfb55SnwrQS6IHvtV1vDZMYcphS2Cua3y70pCiIbuJxSfZ8ZQWWNWDHS3GGUyH4k4PQy6ixh_aqQFo3_stbWyjDHbF-E2Exis7efAndDW_eAFsYXeTyQQ3w4WbVbGMwTrbvqWaj1wvKW0M7qaYPTjr87WY88IimMywT5YFq3CDCw66y8uPOrn6gw6uqKa391THdY4pc01LYS25X0mYR3ygygHNZqkFZeXTIOgs7NRL5SUBOWWMZZANJDhOc16DR9nEIvdiuy8hDBr0I_gItGYQUJFLCa4-axjAkAkHDhhJDGg1NoAUzblGuoGzhHwW-DTAmq20Hs__Rk_7XjwxL8f9Y2k7r_zHWeNDqx1xqQBguYm51ainwr4JYWb7Kc5hx2C3NMXnJzF96QgnvSYHcO5yJNoBidlN7RL256nG5Zuyf6DafGnuP9ixRvBYeJr2zhppYwf0i7gPzH6aQL-d0ZOLQQPtiCXl8UtfC7fxrYN075ffwsOHoVSoQB5tcX6QpGdsEqJ-sWXe-Qs=w1142-h648-no)"
   ]
  },
  {
   "cell_type": "markdown",
   "metadata": {},
   "source": [
    "$\\frac{\\partial L}{\\partial z} のLとは　$\n",
    "\n",
    "$最終的にLという値を出力するグラフを想定している$"
   ]
  },
  {
   "cell_type": "markdown",
   "metadata": {},
   "source": [
    "例： 「10＋5=15」という計算があるとして逆伝播の際には上流から1.3の値が流れているとする。\n",
    "\n",
    "![加算ノードの逆伝播](https://lh3.googleusercontent.com/syJTAsRJ905dWsiTxSzzTvXtnfwNBb-6fddC_TkR64CasRChVydC19oJbxjQIjKftB1wv8Wl8YzLBEgbATV3XuSlhmgsrv58kyXy-HPJ1DL7yLYc9TE0lt048KZmaCDwry9R_c1apNxG6Ch0-4kpGOYheGuT7p7TGqSU62UN6VrsyIpUlh8RyApM_Y7q8GCTzovvQFjUkhL655YUt3aPgQLr8IIjOMis7yYmDvCE3FSQbUDE5Rh4hcrfp-s6JJ7P89pK9esfeNgCkGTWYjW9I0ppsy8iwBi_GcMJ39lIV95lIHjxPdQ9YCZsiSCl6szoTANL8VuX5nTQmYMg0P3pp7FltBpkx8EplSkLcMqBt3FDfyGiv6oEPvD8L-P3eLAB0XbCp9pstnjAipQVGHI2QqJNHt9b94b7UOWBrIltQNALDE-jnc-HVEENBTevH9UujMR1MS3mStNfubnBuYjgOBwqe-KVr02F9FOQ8VI_ExjnfFj3RF9W4xxCaysbEoJdh9n6Ra1ubTkusgObaKacITqoFO2mvQshyBKLAmvvIoW9CiUVxCpErbzu2Xw1ecy0F3RVRDIVZWj0eB5MjWEox8rd09lUlcQSM86ACGFy7scr0tifQWDSBg=w1124-h492-no)"
   ]
  },
  {
   "cell_type": "markdown",
   "metadata": {},
   "source": [
    "## 乗算ノードの逆伝播\n",
    "例： $z= xy$ の場合\n",
    "\n",
    "$\\frac{\\partial z}{\\partial x} = y$\n",
    "\n",
    "$\\frac{\\partial z}{\\partial y} = x$\n",
    "\n",
    "![乗算ノードの逆伝播](https://lh3.googleusercontent.com/ZBxRZFSw09sWQdBogVpSGBR5AZi_PCPdfhQsx9BnhlqZ5eQ9VJR_AMxPf6_0VnnYnwNix8ue3FP_uSEqbHaayb4Cbq8eS23DzVyqA0A2ux6JEd2M818MCfnkyeQIL-XRzTnuIMesStlS0zGwLxbYNml-lCC3OvT3PsjSPXqZoQuiA2tiUxX6IfamzM82FsmzCoGI-z9vVlpERZa17IfcpvMYXaNKnz3Gvbx7Gia0ClfvefGoJddYL7zx1FlGfcINW4_S20i2zbuEXRHGHPElUzf51CjfJrA3zv0ZbBNkfjbDb4-nwLBRGcGXL0w4uKEwt4neUT2RfjKUPwdPLqEWKGFySmvsnmonn5-OhaStsBnlgOz1OPaTgYsUZdot0kNIhaeOHKP-LGnIoiYw_PpnPi3fuZnu9OYN47yMdHQisRYUdumbjnh-QvT7IxR3rNQNCWxW92kJ32QSwd92lkI_NgkhitCPf-Hb3WV2Ev1y_1F9G6szeBGclnWi_pQTiit0eWvKVBegmUZ1q60pQk1n7igNZJ1vCMhgIx8gLG_BF9f8xYeIk6zKH-WiaorrURBL1iqHwEhKzT1O-xaQHnvzyb-3Ea4Nb-IRb9EHVd6MevOGp0mL-Luf8g=w1118-h632-no)"
   ]
  },
  {
   "cell_type": "markdown",
   "metadata": {},
   "source": [
    "乗算の逆伝播の場合、上流地に、順伝播の際の入力信号を <strong>ひっくり返した値</strong> を乗算して下流へ流す。\n",
    "\n",
    "例：　$10 \\times 5 = 50 $の場合\n",
    "\n",
    "![乗算の逆伝播](https://lh3.googleusercontent.com/DKGmybecagRIoavLQQdlQxcauXA1HBMeOrDu8JZ8bbBqH4whHUkmZ54EvAlbycRJcyEXq5eK3graDZYLVAQjktDdtcwk3wgpCYxOO-xer4L7XhyaxtGEPKInJ2PCNHcbjVr588oPxdGNU3dPtejSwl6WZehcnRqErZkfSPvZHeucoWZbYzcdbh7eF4jv-PHvn1ogN78_h0XV-68M09O381vzTzZyE_ubz7Zalhnjci-eqaliJ3lfJX8GPH2u-Yb1ANiHdVdSwffE2Vov5gSyLK8qp2HuI_dWhOIe3YgJi9UXef4o8kAuxtozzTFkJhUx3jewwPEgjJ6vPTEPcfG1eEP0bvOt5t8Mfr9-I5nfbK6FekeiIpL5dPF4K0dRLdO5W_8FxqTxXx2FpnhP63h450vGSWqAiymFBEAnulh5YkwJThomFAcKMINRlPFgfQshwZ0Ivwuq4ya5xrnz2uzi_2TkqS0y0VJT1w6e1RjQ4ULIlHxR7LXRQJ7-XqFH3e207B0MYHLCumWnOUsG-jTjK5SUiPtxq8bBuAmBY2RQOXtL8EFvsZw85kr83b9cA_StMd8HdzzqUCqdlEcMVoY5Jfd7LYYWaeKyrnmFmMdcxPVdfM6OTgf4Cw=w1114-h554-no)"
   ]
  },
  {
   "cell_type": "markdown",
   "metadata": {},
   "source": [
    "### りんごの例\n",
    "2個のりんごを消費税を考えた場合\n",
    "\n",
    "![リンゴの買い物逆伝播](https://lh3.googleusercontent.com/pNLzDLn4j2YpmXsFk5cNO2F8A8HyF8tw_mirCLwPAP4SHyyem9wP54wmpRGGiMedHBjRdwtwEPgcy926dpH6GZC8gOU312biP5iAl-aP06-eHPbpWG80jGmXVVrqI2Z1PdqkDsx-DI0yG5T3nOzW_x-kT7j6l0xdMGtutJqaRmxUBMxEyNk1klH3c_RE0ekZI5MEtkLR69Wsbuo_iLS05r0R6t-LxoAXBWJU1GVzCTujJKEI2pm3QXWMi6SgYxSlExu-5zT6KEWF-bT0XHoEG8W_H8iecE9sXe4XDL71fH7x5STXgBwLelTAxIOW7HfshDN37BwZnHxJ689K5gsl_x3tG2BnhNzwc-BKMQI0fk7mcSNpnuew2fCN3UivK0IzUrFqTcJxU9dcnLvvu8dbNLsa3rik6P50JfPQwpMol8OmteATVvYfneSAPGKrYyOWCz_A_VHbQsqbrZFhkfuCxGQga7Pmn23JzK_y3qzp7kjZ0QmSDFwdgooRFxPpLnWFSnC7s6JS-voSwoQsYcpZBoFfDQSug0Bi27jYilz0zfgT4RJjW4yeAV8eOzyFAW-svkrOvIzVPKYv2N_npTvi6cxPHVT28xBptMimTJlVhgGm1I08UYJVOw=w1128-h522-no)\n",
    "\n",
    "りんごとみかんの買い物の逆伝播\n",
    "![りんごとみかんの買い物の逆伝播](https://lh3.googleusercontent.com/zqWAUHpV1QLj1yMHKhsPlBufVEbqEin_CM0ATzk0xXV_th6bF8qW7JrFHPrO_sQOE-HyTyGXxzIAfabWD9RMgmUf0k9DRuCp1iTsLyvqNt2tVIuY8IFALdswyh6jhr8xYMgxIQQEC7OzSsxvcOHXGAPB7S5_oxN9gzBb_j3Nc_mAHKWO9iuANW6lGm9Ynl9MuymAF8HbK-WsOSGBwuMGU4yCcELlwnIHh995TwY6FUgRjz169IfCBv_k1gpLoTMnRcPSCero7Xc-tXoVqZatqEYiCX9NNpGbP87FjSAFEOsuxx6poqqV66nW8qd1YMpR-aYIteniCuTmSR-DiXprEko2UiuoE66nzS4c4f1uk1nFB-5tzDNWpKWSCnKOK_LElNvat11olHRg9FvtJog1FSM4UwoeVOuLhnE0d08gmaaq9_o6oFHyOYkF4CiEXckwuKw-lnvx4yzOH8YMpMWOWnNQQno0OExy3Ta3f0oHHwfmyNk4uW3S-XMMgNLZtqxs0zoANAiGAyQ9eASlB1Z-QUVJFN0BSAXQsxcmwZ7nDaTKID0u1yETpVB5X25RLvxdU-KPRBGYNNh90hpaKd2CnF-uyQHTjmtkD0dPSbIEtK-GaPFvuw=w1130-h574-no)"
   ]
  }
 ],
 "metadata": {
  "kernelspec": {
   "display_name": "Python [conda root]",
   "language": "python",
   "name": "conda-root-py"
  },
  "language_info": {
   "codemirror_mode": {
    "name": "ipython",
    "version": 3
   },
   "file_extension": ".py",
   "mimetype": "text/x-python",
   "name": "python",
   "nbconvert_exporter": "python",
   "pygments_lexer": "ipython3",
   "version": "3.5.2"
  }
 },
 "nbformat": 4,
 "nbformat_minor": 1
}
