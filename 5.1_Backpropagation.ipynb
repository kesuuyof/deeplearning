{
 "cells": [
  {
   "cell_type": "markdown",
   "metadata": {},
   "source": [
    "# 誤差逆伝播法 (backpropagation)\n",
    "\n",
    "誤差逆伝播法を理解するための方法\n",
    "### 数式\n",
    "### 計算グラフ\n",
    "- 順伝播(forward propagatinon)\n",
    " - 計算の結果を順方向に伝達する。\n",
    "- 逆伝播(backward propagation)\n",
    " - 「局所的な微分」を順方向とは逆向きに伝達する\n",
    "   \n",
    "#### 計算グラフの特徴\n",
    "1. 局所的な計算ができる\n",
    " - 全体でどのようなことが行われていても、自分に関係する情報だけから次の結果（その先の結果）を出力することができる\n",
    "2. 逆方向の伝播によって「微分」を効率よく計算できる\n",
    "\n",
    "##### 逆伝播とは\n",
    "- x: りんごの値段\n",
    "- L:支払金額\n",
    "\n",
    "とした場合\n",
    "\n",
    "$\\frac{\\partial L}{\\partial x}$ を求めることに相当する\n",
    "\n"
   ]
  },
  {
   "cell_type": "markdown",
   "metadata": {},
   "source": [
    "# 連鎖率\n",
    "\n",
    "局所的な微分とは\n",
    "$順伝播でのy=f(x)という計算の微分を求めること$\n",
    "\n",
    "### 合成関数\n",
    "複数の関数によって構成される関数のこと。\n",
    "例\n",
    "\n",
    "$z = t^2$\n",
    "\n",
    "$t = x + y$\n",
    "\n",
    "連鎖率とは合成関数の微分についての性質であり、次のように定義される。\n",
    "\n",
    "*ある関数が合成関数で表される場合、その合成関数の微分は、合成関数を構成するそれぞれの関数の微分の積によって表すことができる。*\n",
    "\n",
    "つまり\n",
    "\n",
    "$\\frac{\\partial z}{\\partial x}  =  \\frac{\\partial z}{\\partial t}\\times \\frac{\\partial x}{\\partial t}$ \n",
    "\n",
    "$ (xに関するzの微分) = (tに関するzの微分) \\times (tに関するxの微分)$\n",
    "\n",
    "例の場合\n",
    "\n",
    "$\\frac{\\partial z }{\\partial t }  = 2t$\n",
    "\n",
    "$\\frac{\\partial t }{\\partial x } = 1$\n",
    "\n",
    "$\\frac{\\partial z}{\\partial x} = \\frac{\\partial z}{\\partial t}\\frac{\\partial t}{\\partial x} = 2t \\times 1 = 2(x + y) $"
   ]
  },
  {
   "cell_type": "markdown",
   "metadata": {},
   "source": [
    "# 逆伝播\n",
    "\n",
    "## 加算ノードの逆伝播\n",
    "\n",
    "例: $z=x+y$という数式について\n",
    "\n",
    "$\\frac{\\partial z}{\\partial x} = 1$\n",
    "\n",
    "$\\frac{\\partial z}{\\partial y} = 1$"
   ]
  },
  {
   "cell_type": "markdown",
   "metadata": {},
   "source": [
    "![加算ノードの逆伝播](https://files.slack.com/files-tmb/T0FNB0BP1-F4LEXEK0C-ec38480d1f/____________________________2017-03-17_1.45.04_1024.png)"
   ]
  },
  {
   "cell_type": "markdown",
   "metadata": {},
   "source": [
    "$\\frac{\\partial L}{\\partial z} のLとは　$\n",
    "\n",
    "$最終的にLという値を出力するグラフを想定している$"
   ]
  },
  {
   "cell_type": "markdown",
   "metadata": {},
   "source": [
    "例： 「10＋5=15」という計算があるとして逆伝播の際には上流から1.3の値が流れているとする。\n",
    "\n",
    "![加算ノードの逆伝播](https://files.slack.com/files-tmb/T0FNB0BP1-F4LEX236Y-7875ce857e/____________________________2017-03-17_2.03.11_1024.png)"
   ]
  },
  {
   "cell_type": "markdown",
   "metadata": {},
   "source": [
    "## 乗算ノードの逆伝播\n",
    "例： $z= xy$ の場合\n",
    "\n",
    "$\\frac{\\partial z}{\\partial x} = y$\n",
    "\n",
    "$\\frac{\\partial z}{\\partial y} = x$\n",
    "\n",
    "![乗算ノードの逆伝播](https://files.slack.com/files-pri/T0FNB0BP1-F4M4RFBRD/____________________________2017-03-19_14.16.34.png)"
   ]
  },
  {
   "cell_type": "markdown",
   "metadata": {},
   "source": [
    "乗算の逆伝播の場合、上流地に、順伝播の際の入力信号を <strong>ひっくり返した値</strong> を乗算して下流へ流す。\n",
    "\n",
    "例：　$10 \\times 5 = 50 $の場合\n",
    "\n",
    "![乗算の逆伝播](https://files.slack.com/files-tmb/T0FNB0BP1-F4LBSDRHR-25bcf769c8/____________________________2017-03-19_14.26.00_1024.png)"
   ]
  },
  {
   "cell_type": "markdown",
   "metadata": {},
   "source": [
    "### りんごの例\n",
    "2個のりんごを消費税を考えた場合\n",
    "\n",
    "![リンゴの買い物逆伝播](https://files.slack.com/files-tmb/T0FNB0BP1-F4LEX2L2Y-72d5380aa2/____________________________2017-03-19_14.39.54_1024.png)\n",
    "\n",
    "りんごとみかんの買い物の逆伝播\n",
    "![りんごとみかんの買い物の逆伝播](https://files.slack.com/files-pri/T0FNB0BP1-F4LDST5PU/____________________________2017-03-19_14.40.05.png)"
   ]
  }
 ],
 "metadata": {
  "kernelspec": {
   "display_name": "Python [conda root]",
   "language": "python",
   "name": "conda-root-py"
  },
  "language_info": {
   "codemirror_mode": {
    "name": "ipython",
    "version": 3
   },
   "file_extension": ".py",
   "mimetype": "text/x-python",
   "name": "python",
   "nbconvert_exporter": "python",
   "pygments_lexer": "ipython3",
   "version": "3.5.2"
  }
 },
 "nbformat": 4,
 "nbformat_minor": 1
}
